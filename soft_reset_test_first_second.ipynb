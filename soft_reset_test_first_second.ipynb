{
 "cells": [
  {
   "cell_type": "code",
   "execution_count": 2,
   "metadata": {},
   "outputs": [],
   "source": [
    "from utils.helper import  *\n",
    "import matplotlib.pyplot as plt\n",
    "import seaborn as sns\n",
    "import numpy as np"
   ]
  },
  {
   "cell_type": "code",
   "execution_count": 3,
   "metadata": {},
   "outputs": [],
   "source": [
    "# read all trials\n",
    "n_trials = 5\n",
    "n_iter = 20\n",
    "f_dir = 'diagnostic_data/softness_test_bare/'\n",
    "all_trials = list()\n",
    "for i in range(2,n_trials+1):\n",
    "    for j in range(1,n_iter+1):\n",
    "        if (i == 1) & (j == 20):\n",
    "            continue\n",
    "        fname = f_dir + f\"stiff_block_trial{i}_{j}.tact\"\n",
    "        temp_df = read_tac_file(fname)\n",
    "        temp_df = temp_df[temp_df.taxel != 0]\n",
    "        temp_df = temp_df.assign(iteration = j)\n",
    "        temp_df = temp_df.assign(trial = i)\n",
    "        all_trials.append(temp_df)"
   ]
  },
  {
   "cell_type": "code",
   "execution_count": 4,
   "metadata": {},
   "outputs": [],
   "source": [
    "df = pd.concat(all_trials)"
   ]
  },
  {
   "cell_type": "code",
   "execution_count": 5,
   "metadata": {},
   "outputs": [],
   "source": [
    "def map_to_finger(taxel_id):\n",
    "    if (taxel_id <= 39) & (taxel_id >=1):\n",
    "        return 'left_finger'\n",
    "    else:\n",
    "        return 'right_finger'\n",
    "\n",
    "df = df.assign(finger_type = df.taxel.apply(map_to_finger))"
   ]
  },
  {
   "cell_type": "code",
   "execution_count": 6,
   "metadata": {},
   "outputs": [
    {
     "data": {
      "text/html": [
       "<div>\n",
       "<style scoped>\n",
       "    .dataframe tbody tr th:only-of-type {\n",
       "        vertical-align: middle;\n",
       "    }\n",
       "\n",
       "    .dataframe tbody tr th {\n",
       "        vertical-align: top;\n",
       "    }\n",
       "\n",
       "    .dataframe thead th {\n",
       "        text-align: right;\n",
       "    }\n",
       "</style>\n",
       "<table border=\"1\" class=\"dataframe\">\n",
       "  <thead>\n",
       "    <tr style=\"text-align: right;\">\n",
       "      <th></th>\n",
       "      <th>isNeg</th>\n",
       "      <th>taxel</th>\n",
       "      <th>time</th>\n",
       "      <th>iteration</th>\n",
       "      <th>trial</th>\n",
       "      <th>finger_type</th>\n",
       "    </tr>\n",
       "  </thead>\n",
       "  <tbody>\n",
       "    <tr>\n",
       "      <th>0</th>\n",
       "      <td>0</td>\n",
       "      <td>43</td>\n",
       "      <td>1.605262e+09</td>\n",
       "      <td>1</td>\n",
       "      <td>2</td>\n",
       "      <td>right_finger</td>\n",
       "    </tr>\n",
       "    <tr>\n",
       "      <th>1</th>\n",
       "      <td>0</td>\n",
       "      <td>43</td>\n",
       "      <td>1.605262e+09</td>\n",
       "      <td>1</td>\n",
       "      <td>2</td>\n",
       "      <td>right_finger</td>\n",
       "    </tr>\n",
       "    <tr>\n",
       "      <th>2</th>\n",
       "      <td>0</td>\n",
       "      <td>43</td>\n",
       "      <td>1.605262e+09</td>\n",
       "      <td>1</td>\n",
       "      <td>2</td>\n",
       "      <td>right_finger</td>\n",
       "    </tr>\n",
       "    <tr>\n",
       "      <th>3</th>\n",
       "      <td>0</td>\n",
       "      <td>43</td>\n",
       "      <td>1.605262e+09</td>\n",
       "      <td>1</td>\n",
       "      <td>2</td>\n",
       "      <td>right_finger</td>\n",
       "    </tr>\n",
       "    <tr>\n",
       "      <th>4</th>\n",
       "      <td>0</td>\n",
       "      <td>13</td>\n",
       "      <td>1.605262e+09</td>\n",
       "      <td>1</td>\n",
       "      <td>2</td>\n",
       "      <td>left_finger</td>\n",
       "    </tr>\n",
       "  </tbody>\n",
       "</table>\n",
       "</div>"
      ],
      "text/plain": [
       "   isNeg  taxel          time  iteration  trial   finger_type\n",
       "0      0     43  1.605262e+09          1      2  right_finger\n",
       "1      0     43  1.605262e+09          1      2  right_finger\n",
       "2      0     43  1.605262e+09          1      2  right_finger\n",
       "3      0     43  1.605262e+09          1      2  right_finger\n",
       "4      0     13  1.605262e+09          1      2   left_finger"
      ]
     },
     "execution_count": 6,
     "metadata": {},
     "output_type": "execute_result"
    }
   ],
   "source": [
    "df.head()"
   ]
  },
  {
   "cell_type": "code",
   "execution_count": 7,
   "metadata": {},
   "outputs": [],
   "source": [
    "count_df = df.groupby(['iteration', 'trial']).count().reset_index()"
   ]
  },
  {
   "cell_type": "code",
   "execution_count": 8,
   "metadata": {},
   "outputs": [
    {
     "data": {
      "text/html": [
       "<div>\n",
       "<style scoped>\n",
       "    .dataframe tbody tr th:only-of-type {\n",
       "        vertical-align: middle;\n",
       "    }\n",
       "\n",
       "    .dataframe tbody tr th {\n",
       "        vertical-align: top;\n",
       "    }\n",
       "\n",
       "    .dataframe thead th {\n",
       "        text-align: right;\n",
       "    }\n",
       "</style>\n",
       "<table border=\"1\" class=\"dataframe\">\n",
       "  <thead>\n",
       "    <tr style=\"text-align: right;\">\n",
       "      <th></th>\n",
       "      <th>iteration</th>\n",
       "      <th>trial</th>\n",
       "      <th>isNeg</th>\n",
       "      <th>taxel</th>\n",
       "      <th>time</th>\n",
       "      <th>finger_type</th>\n",
       "    </tr>\n",
       "  </thead>\n",
       "  <tbody>\n",
       "    <tr>\n",
       "      <th>0</th>\n",
       "      <td>1</td>\n",
       "      <td>2</td>\n",
       "      <td>1138</td>\n",
       "      <td>1138</td>\n",
       "      <td>1138</td>\n",
       "      <td>1138</td>\n",
       "    </tr>\n",
       "    <tr>\n",
       "      <th>1</th>\n",
       "      <td>1</td>\n",
       "      <td>3</td>\n",
       "      <td>1297</td>\n",
       "      <td>1297</td>\n",
       "      <td>1297</td>\n",
       "      <td>1297</td>\n",
       "    </tr>\n",
       "    <tr>\n",
       "      <th>2</th>\n",
       "      <td>1</td>\n",
       "      <td>4</td>\n",
       "      <td>3506</td>\n",
       "      <td>3506</td>\n",
       "      <td>3506</td>\n",
       "      <td>3506</td>\n",
       "    </tr>\n",
       "    <tr>\n",
       "      <th>3</th>\n",
       "      <td>1</td>\n",
       "      <td>5</td>\n",
       "      <td>2938</td>\n",
       "      <td>2938</td>\n",
       "      <td>2938</td>\n",
       "      <td>2938</td>\n",
       "    </tr>\n",
       "    <tr>\n",
       "      <th>4</th>\n",
       "      <td>2</td>\n",
       "      <td>2</td>\n",
       "      <td>1286</td>\n",
       "      <td>1286</td>\n",
       "      <td>1286</td>\n",
       "      <td>1286</td>\n",
       "    </tr>\n",
       "  </tbody>\n",
       "</table>\n",
       "</div>"
      ],
      "text/plain": [
       "   iteration  trial  isNeg  taxel  time  finger_type\n",
       "0          1      2   1138   1138  1138         1138\n",
       "1          1      3   1297   1297  1297         1297\n",
       "2          1      4   3506   3506  3506         3506\n",
       "3          1      5   2938   2938  2938         2938\n",
       "4          2      2   1286   1286  1286         1286"
      ]
     },
     "execution_count": 8,
     "metadata": {},
     "output_type": "execute_result"
    }
   ],
   "source": [
    "count_df.head()"
   ]
  },
  {
   "cell_type": "code",
   "execution_count": 9,
   "metadata": {},
   "outputs": [
    {
     "data": {
      "image/png": "[encoded data removed]",
      "text/plain": [
       "<Figure size 1080x576 with 1 Axes>"
      ]
     },
     "metadata": {
      "needs_background": "light"
     },
     "output_type": "display_data"
    }
   ],
   "source": [
    "fig, ax = plt.subplots(figsize=(15,8))\n",
    "sns.barplot(ax=ax, x = 'trial', y='time', data=count_df)\n",
    "#ax.set_ylim([5400,6400])\n",
    "ax.set_ylabel('Total spike count')\n",
    "plt.show()"
   ]
  },
  {
   "cell_type": "markdown",
   "metadata": {},
   "source": [
    "### Thoughts\n",
    "1. No substantial difference between switching on and switching off the board \n",
    "2. No much correlation on warming up (no idea)"
   ]
  },
  {
   "cell_type": "code",
   "execution_count": 10,
   "metadata": {},
   "outputs": [],
   "source": [
    "count_df = df.groupby(['iteration', 'trial', 'isNeg']).count().reset_index()"
   ]
  },
  {
   "cell_type": "code",
   "execution_count": 11,
   "metadata": {},
   "outputs": [
    {
     "data": {
      "image/png": "[encoded data removed]",
      "text/plain": [
       "<Figure size 1080x576 with 2 Axes>"
      ]
     },
     "metadata": {
      "needs_background": "light"
     },
     "output_type": "display_data"
    }
   ],
   "source": [
    "fig, ax = plt.subplots(nrows=2, ncols=1, figsize=(15,8))\n",
    "sns.barplot(ax=ax[0], x = 'trial', y='time',  data=count_df[count_df.isNeg==0])\n",
    "#ax[0].set_ylim([2400,3000])\n",
    "ax[0].set_ylabel('Positive spike count')\n",
    "sns.barplot(ax=ax[1], x = 'trial', y='time',  data=count_df[count_df.isNeg==1])\n",
    "#ax[1].set_ylim([2900,3500])\n",
    "ax[1].set_ylabel('Negative spike count')\n",
    "plt.show()"
   ]
  },
  {
   "cell_type": "markdown",
   "metadata": {},
   "source": [
    "### Notes:\n",
    "1. Some correlation in trend between pos and neg spike counts\n",
    "2. Generally slightly more negative spikes than positive ones"
   ]
  },
  {
   "cell_type": "code",
   "execution_count": 12,
   "metadata": {},
   "outputs": [],
   "source": [
    "count_df = df.groupby(['iteration', 'trial', 'finger_type']).count().reset_index()"
   ]
  },
  {
   "cell_type": "code",
   "execution_count": 13,
   "metadata": {},
   "outputs": [
    {
     "data": {
      "text/html": [
       "<div>\n",
       "<style scoped>\n",
       "    .dataframe tbody tr th:only-of-type {\n",
       "        vertical-align: middle;\n",
       "    }\n",
       "\n",
       "    .dataframe tbody tr th {\n",
       "        vertical-align: top;\n",
       "    }\n",
       "\n",
       "    .dataframe thead th {\n",
       "        text-align: right;\n",
       "    }\n",
       "</style>\n",
       "<table border=\"1\" class=\"dataframe\">\n",
       "  <thead>\n",
       "    <tr style=\"text-align: right;\">\n",
       "      <th></th>\n",
       "      <th>iteration</th>\n",
       "      <th>trial</th>\n",
       "      <th>finger_type</th>\n",
       "      <th>isNeg</th>\n",
       "      <th>taxel</th>\n",
       "      <th>time</th>\n",
       "    </tr>\n",
       "  </thead>\n",
       "  <tbody>\n",
       "    <tr>\n",
       "      <th>0</th>\n",
       "      <td>1</td>\n",
       "      <td>2</td>\n",
       "      <td>left_finger</td>\n",
       "      <td>689</td>\n",
       "      <td>689</td>\n",
       "      <td>689</td>\n",
       "    </tr>\n",
       "    <tr>\n",
       "      <th>1</th>\n",
       "      <td>1</td>\n",
       "      <td>2</td>\n",
       "      <td>right_finger</td>\n",
       "      <td>449</td>\n",
       "      <td>449</td>\n",
       "      <td>449</td>\n",
       "    </tr>\n",
       "    <tr>\n",
       "      <th>2</th>\n",
       "      <td>1</td>\n",
       "      <td>3</td>\n",
       "      <td>left_finger</td>\n",
       "      <td>628</td>\n",
       "      <td>628</td>\n",
       "      <td>628</td>\n",
       "    </tr>\n",
       "    <tr>\n",
       "      <th>3</th>\n",
       "      <td>1</td>\n",
       "      <td>3</td>\n",
       "      <td>right_finger</td>\n",
       "      <td>669</td>\n",
       "      <td>669</td>\n",
       "      <td>669</td>\n",
       "    </tr>\n",
       "    <tr>\n",
       "      <th>4</th>\n",
       "      <td>1</td>\n",
       "      <td>4</td>\n",
       "      <td>left_finger</td>\n",
       "      <td>852</td>\n",
       "      <td>852</td>\n",
       "      <td>852</td>\n",
       "    </tr>\n",
       "    <tr>\n",
       "      <th>...</th>\n",
       "      <td>...</td>\n",
       "      <td>...</td>\n",
       "      <td>...</td>\n",
       "      <td>...</td>\n",
       "      <td>...</td>\n",
       "      <td>...</td>\n",
       "    </tr>\n",
       "    <tr>\n",
       "      <th>155</th>\n",
       "      <td>20</td>\n",
       "      <td>3</td>\n",
       "      <td>right_finger</td>\n",
       "      <td>355</td>\n",
       "      <td>355</td>\n",
       "      <td>355</td>\n",
       "    </tr>\n",
       "    <tr>\n",
       "      <th>156</th>\n",
       "      <td>20</td>\n",
       "      <td>4</td>\n",
       "      <td>left_finger</td>\n",
       "      <td>704</td>\n",
       "      <td>704</td>\n",
       "      <td>704</td>\n",
       "    </tr>\n",
       "    <tr>\n",
       "      <th>157</th>\n",
       "      <td>20</td>\n",
       "      <td>4</td>\n",
       "      <td>right_finger</td>\n",
       "      <td>2175</td>\n",
       "      <td>2175</td>\n",
       "      <td>2175</td>\n",
       "    </tr>\n",
       "    <tr>\n",
       "      <th>158</th>\n",
       "      <td>20</td>\n",
       "      <td>5</td>\n",
       "      <td>left_finger</td>\n",
       "      <td>750</td>\n",
       "      <td>750</td>\n",
       "      <td>750</td>\n",
       "    </tr>\n",
       "    <tr>\n",
       "      <th>159</th>\n",
       "      <td>20</td>\n",
       "      <td>5</td>\n",
       "      <td>right_finger</td>\n",
       "      <td>2807</td>\n",
       "      <td>2807</td>\n",
       "      <td>2807</td>\n",
       "    </tr>\n",
       "  </tbody>\n",
       "</table>\n",
       "<p>160 rows × 6 columns</p>\n",
       "</div>"
      ],
      "text/plain": [
       "     iteration  trial   finger_type  isNeg  taxel  time\n",
       "0            1      2   left_finger    689    689   689\n",
       "1            1      2  right_finger    449    449   449\n",
       "2            1      3   left_finger    628    628   628\n",
       "3            1      3  right_finger    669    669   669\n",
       "4            1      4   left_finger    852    852   852\n",
       "..         ...    ...           ...    ...    ...   ...\n",
       "155         20      3  right_finger    355    355   355\n",
       "156         20      4   left_finger    704    704   704\n",
       "157         20      4  right_finger   2175   2175  2175\n",
       "158         20      5   left_finger    750    750   750\n",
       "159         20      5  right_finger   2807   2807  2807\n",
       "\n",
       "[160 rows x 6 columns]"
      ]
     },
     "execution_count": 13,
     "metadata": {},
     "output_type": "execute_result"
    }
   ],
   "source": [
    "count_df"
   ]
  },
  {
   "cell_type": "code",
   "execution_count": 14,
   "metadata": {},
   "outputs": [
    {
     "data": {
      "image/png": "[encoded data removed]",
      "text/plain": [
       "<Figure size 1080x576 with 2 Axes>"
      ]
     },
     "metadata": {
      "needs_background": "light"
     },
     "output_type": "display_data"
    }
   ],
   "source": [
    "fig, ax = plt.subplots(nrows=2, ncols=1, figsize=(15,8))\n",
    "sns.barplot(ax=ax[0], x = 'trial', y='time',  data=count_df[count_df.finger_type=='left_finger'])\n",
    "#ax[0].set_ylim([3800,4700])\n",
    "ax[0].set_ylabel('Left finger total spike count')\n",
    "sns.barplot(ax=ax[1], x = 'trial', y='time',  data=count_df[count_df.finger_type=='right_finger'])\n",
    "#ax[1].set_ylim([1500, 1900])\n",
    "ax[1].set_ylabel('Right finger total count')\n",
    "plt.show()"
   ]
  },
  {
   "cell_type": "markdown",
   "metadata": {},
   "source": [
    "### Notes (finger-wise)\n",
    "1. Left finger spikes more than right one\n",
    "2. No correlation between spike counts for switching on and off"
   ]
  },
  {
   "cell_type": "code",
   "execution_count": 15,
   "metadata": {},
   "outputs": [],
   "source": [
    "count_df = df.groupby(['iteration', 'trial', 'finger_type', 'isNeg']).count().reset_index()"
   ]
  },
  {
   "cell_type": "code",
   "execution_count": 16,
   "metadata": {},
   "outputs": [
    {
     "data": {
      "image/png": "[encoded data removed]",
      "text/plain": [
       "<Figure size 1080x1152 with 4 Axes>"
      ]
     },
     "metadata": {
      "needs_background": "light"
     },
     "output_type": "display_data"
    }
   ],
   "source": [
    "fig, ax = plt.subplots(nrows=4, ncols=1, figsize=(15,16))\n",
    "\n",
    "left_finger_mask = (count_df.finger_type=='left_finger')\n",
    "right_finger_maks = ~left_finger_mask\n",
    "negative_mask = (count_df.isNeg == 1)\n",
    "positive_mask = ~negative_mask\n",
    "\n",
    "sns.barplot(ax=ax[0], x = 'trial', y='time',  data=count_df[left_finger_mask & positive_mask])\n",
    "#ax[0].set_ylim([1600,2200])\n",
    "ax[0].set_ylabel('Left finger positive spike count')\n",
    "sns.barplot(ax=ax[1], x = 'trial', y='time',  data=count_df[left_finger_mask & negative_mask])\n",
    "#ax[1].set_ylim([2000, 2600])\n",
    "ax[1].set_ylabel('Left finger negative spike count')\n",
    "\n",
    "sns.barplot(ax=ax[2], x = 'trial', y='time',  data=count_df[right_finger_maks & positive_mask])\n",
    "#ax[2].set_ylim([600,900])\n",
    "ax[2].set_ylabel('Right finger positive spike count')\n",
    "sns.barplot(ax=ax[3], x = 'trial', y='time',  data=count_df[right_finger_maks & negative_mask])\n",
    "#ax[3].set_ylim([800, 1200])\n",
    "ax[3].set_ylabel('Right finger negative spike count')\n",
    "\n",
    "plt.show()"
   ]
  },
  {
   "cell_type": "markdown",
   "metadata": {},
   "source": [
    "Notes (finger-wise)\n",
    "1. More negative spikes than positive ones"
   ]
  }
 ],
 "metadata": {
  "kernelspec": {
   "display_name": "Python 3",
   "language": "python",
   "name": "python3"
  },
  "language_info": {
   "codemirror_mode": {
    "name": "ipython",
    "version": 3
   },
   "file_extension": ".py",
   "mimetype": "text/x-python",
   "name": "python",
   "nbconvert_exporter": "python",
   "pygments_lexer": "ipython3",
   "version": "3.6.12"
  }
 },
 "nbformat": 4,
 "nbformat_minor": 4
}
