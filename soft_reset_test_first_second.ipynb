{
 "cells": [
  {
   "cell_type": "code",
   "execution_count": 2,
   "metadata": {},
   "outputs": [],
   "source": [
    "from utils.helper import  *\n",
    "import matplotlib.pyplot as plt\n",
    "import seaborn as sns\n",
    "import numpy as np"
   ]
  },
  {
   "cell_type": "code",
   "execution_count": 25,
   "metadata": {},
   "outputs": [],
   "source": [
    "# read all trials\n",
    "n_trials = 3\n",
    "n_iter = 20\n",
    "f_dir = 'diagnostic_data/softness_test_bare/'\n",
    "all_trials = list()\n",
    "for i in range(2,n_trials+1):\n",
    "    for j in range(1,n_iter+1):\n",
    "        if (i == 1) & (j == 20):\n",
    "            continue\n",
    "        fname = f_dir + f\"stiff_block_trial{i}_{j}.tact\"\n",
    "        temp_df = read_tac_file(fname)\n",
    "        temp_df = temp_df[temp_df.taxel != 0]\n",
    "        temp_df = temp_df.assign(iteration = j)\n",
    "        temp_df = temp_df.assign(trial = i)\n",
    "        all_trials.append(temp_df)"
   ]
  },
  {
   "cell_type": "code",
   "execution_count": 26,
   "metadata": {},
   "outputs": [],
   "source": [
    "df = pd.concat(all_trials)"
   ]
  },
  {
   "cell_type": "code",
   "execution_count": 27,
   "metadata": {},
   "outputs": [],
   "source": [
    "def map_to_finger(taxel_id):\n",
    "    if (taxel_id <= 39) & (taxel_id >=1):\n",
    "        return 'left_finger'\n",
    "    else:\n",
    "        return 'right_finger'\n",
    "\n",
    "df = df.assign(finger_type = df.taxel.apply(map_to_finger))"
   ]
  },
  {
   "cell_type": "code",
   "execution_count": 28,
   "metadata": {},
   "outputs": [
    {
     "data": {
      "text/html": [
       "<div>\n",
       "<style scoped>\n",
       "    .dataframe tbody tr th:only-of-type {\n",
       "        vertical-align: middle;\n",
       "    }\n",
       "\n",
       "    .dataframe tbody tr th {\n",
       "        vertical-align: top;\n",
       "    }\n",
       "\n",
       "    .dataframe thead th {\n",
       "        text-align: right;\n",
       "    }\n",
       "</style>\n",
       "<table border=\"1\" class=\"dataframe\">\n",
       "  <thead>\n",
       "    <tr style=\"text-align: right;\">\n",
       "      <th></th>\n",
       "      <th>isNeg</th>\n",
       "      <th>taxel</th>\n",
       "      <th>time</th>\n",
       "      <th>iteration</th>\n",
       "      <th>trial</th>\n",
       "      <th>finger_type</th>\n",
       "    </tr>\n",
       "  </thead>\n",
       "  <tbody>\n",
       "    <tr>\n",
       "      <th>0</th>\n",
       "      <td>0</td>\n",
       "      <td>43</td>\n",
       "      <td>1.605262e+09</td>\n",
       "      <td>1</td>\n",
       "      <td>2</td>\n",
       "      <td>right_finger</td>\n",
       "    </tr>\n",
       "    <tr>\n",
       "      <th>1</th>\n",
       "      <td>0</td>\n",
       "      <td>43</td>\n",
       "      <td>1.605262e+09</td>\n",
       "      <td>1</td>\n",
       "      <td>2</td>\n",
       "      <td>right_finger</td>\n",
       "    </tr>\n",
       "    <tr>\n",
       "      <th>2</th>\n",
       "      <td>0</td>\n",
       "      <td>43</td>\n",
       "      <td>1.605262e+09</td>\n",
       "      <td>1</td>\n",
       "      <td>2</td>\n",
       "      <td>right_finger</td>\n",
       "    </tr>\n",
       "    <tr>\n",
       "      <th>3</th>\n",
       "      <td>0</td>\n",
       "      <td>43</td>\n",
       "      <td>1.605262e+09</td>\n",
       "      <td>1</td>\n",
       "      <td>2</td>\n",
       "      <td>right_finger</td>\n",
       "    </tr>\n",
       "    <tr>\n",
       "      <th>4</th>\n",
       "      <td>0</td>\n",
       "      <td>13</td>\n",
       "      <td>1.605262e+09</td>\n",
       "      <td>1</td>\n",
       "      <td>2</td>\n",
       "      <td>left_finger</td>\n",
       "    </tr>\n",
       "  </tbody>\n",
       "</table>\n",
       "</div>"
      ],
      "text/plain": [
       "   isNeg  taxel          time  iteration  trial   finger_type\n",
       "0      0     43  1.605262e+09          1      2  right_finger\n",
       "1      0     43  1.605262e+09          1      2  right_finger\n",
       "2      0     43  1.605262e+09          1      2  right_finger\n",
       "3      0     43  1.605262e+09          1      2  right_finger\n",
       "4      0     13  1.605262e+09          1      2   left_finger"
      ]
     },
     "execution_count": 28,
     "metadata": {},
     "output_type": "execute_result"
    }
   ],
   "source": [
    "df.head()"
   ]
  },
  {
   "cell_type": "code",
   "execution_count": 30,
   "metadata": {},
   "outputs": [],
   "source": [
    "count_df = df.groupby(['iteration', 'trial']).count().reset_index()"
   ]
  },
  {
   "cell_type": "code",
   "execution_count": 31,
   "metadata": {},
   "outputs": [
    {
     "data": {
      "text/html": [
       "<div>\n",
       "<style scoped>\n",
       "    .dataframe tbody tr th:only-of-type {\n",
       "        vertical-align: middle;\n",
       "    }\n",
       "\n",
       "    .dataframe tbody tr th {\n",
       "        vertical-align: top;\n",
       "    }\n",
       "\n",
       "    .dataframe thead th {\n",
       "        text-align: right;\n",
       "    }\n",
       "</style>\n",
       "<table border=\"1\" class=\"dataframe\">\n",
       "  <thead>\n",
       "    <tr style=\"text-align: right;\">\n",
       "      <th></th>\n",
       "      <th>iteration</th>\n",
       "      <th>trial</th>\n",
       "      <th>isNeg</th>\n",
       "      <th>taxel</th>\n",
       "      <th>time</th>\n",
       "      <th>finger_type</th>\n",
       "    </tr>\n",
       "  </thead>\n",
       "  <tbody>\n",
       "    <tr>\n",
       "      <th>0</th>\n",
       "      <td>1</td>\n",
       "      <td>2</td>\n",
       "      <td>1138</td>\n",
       "      <td>1138</td>\n",
       "      <td>1138</td>\n",
       "      <td>1138</td>\n",
       "    </tr>\n",
       "    <tr>\n",
       "      <th>1</th>\n",
       "      <td>1</td>\n",
       "      <td>3</td>\n",
       "      <td>1297</td>\n",
       "      <td>1297</td>\n",
       "      <td>1297</td>\n",
       "      <td>1297</td>\n",
       "    </tr>\n",
       "    <tr>\n",
       "      <th>2</th>\n",
       "      <td>2</td>\n",
       "      <td>2</td>\n",
       "      <td>1286</td>\n",
       "      <td>1286</td>\n",
       "      <td>1286</td>\n",
       "      <td>1286</td>\n",
       "    </tr>\n",
       "    <tr>\n",
       "      <th>3</th>\n",
       "      <td>2</td>\n",
       "      <td>3</td>\n",
       "      <td>1189</td>\n",
       "      <td>1189</td>\n",
       "      <td>1189</td>\n",
       "      <td>1189</td>\n",
       "    </tr>\n",
       "    <tr>\n",
       "      <th>4</th>\n",
       "      <td>3</td>\n",
       "      <td>2</td>\n",
       "      <td>1102</td>\n",
       "      <td>1102</td>\n",
       "      <td>1102</td>\n",
       "      <td>1102</td>\n",
       "    </tr>\n",
       "  </tbody>\n",
       "</table>\n",
       "</div>"
      ],
      "text/plain": [
       "   iteration  trial  isNeg  taxel  time  finger_type\n",
       "0          1      2   1138   1138  1138         1138\n",
       "1          1      3   1297   1297  1297         1297\n",
       "2          2      2   1286   1286  1286         1286\n",
       "3          2      3   1189   1189  1189         1189\n",
       "4          3      2   1102   1102  1102         1102"
      ]
     },
     "execution_count": 31,
     "metadata": {},
     "output_type": "execute_result"
    }
   ],
   "source": [
    "count_df.head()"
   ]
  },
  {
   "cell_type": "code",
   "execution_count": 33,
   "metadata": {},
   "outputs": [
    {
     "data": {
      "image/png": "[encoded data removed]",
      "text/plain": [
       "<Figure size 1080x576 with 1 Axes>"
      ]
     },
     "metadata": {
      "needs_background": "light"
     },
     "output_type": "display_data"
    }
   ],
   "source": [
    "fig, ax = plt.subplots(figsize=(15,8))\n",
    "sns.barplot(ax=ax, x = 'trial', y='time', data=count_df)\n",
    "#ax.set_ylim([5400,6400])\n",
    "ax.set_ylabel('Total spike count')\n",
    "plt.show()"
   ]
  },
  {
   "cell_type": "markdown",
   "metadata": {},
   "source": [
    "### Thoughts\n",
    "1. No substantial difference between switching on and switching off the board \n",
    "2. No much correlation on warming up (no idea)"
   ]
  },
  {
   "cell_type": "code",
   "execution_count": 34,
   "metadata": {},
   "outputs": [],
   "source": [
    "count_df = df.groupby(['iteration', 'trial', 'isNeg']).count().reset_index()"
   ]
  },
  {
   "cell_type": "code",
   "execution_count": 36,
   "metadata": {},
   "outputs": [
    {
     "data": {
      "image/png": "[encoded data removed]",
      "text/plain": [
       "<Figure size 1080x576 with 2 Axes>"
      ]
     },
     "metadata": {
      "needs_background": "light"
     },
     "output_type": "display_data"
    }
   ],
   "source": [
    "fig, ax = plt.subplots(nrows=2, ncols=1, figsize=(15,8))\n",
    "sns.barplot(ax=ax[0], x = 'trial', y='time',  data=count_df[count_df.isNeg==0])\n",
    "#ax[0].set_ylim([2400,3000])\n",
    "ax[0].set_ylabel('Positive spike count')\n",
    "sns.barplot(ax=ax[1], x = 'trial', y='time',  data=count_df[count_df.isNeg==1])\n",
    "#ax[1].set_ylim([2900,3500])\n",
    "ax[1].set_ylabel('Negative spike count')\n",
    "plt.show()"
   ]
  },
  {
   "cell_type": "markdown",
   "metadata": {},
   "source": [
    "### Notes:\n",
    "1. Some correlation in trend between pos and neg spike counts\n",
    "2. Generally slightly more negative spikes than positive ones"
   ]
  },
  {
   "cell_type": "code",
   "execution_count": 39,
   "metadata": {},
   "outputs": [],
   "source": [
    "count_df = df.groupby(['iteration', 'trial', 'finger_type']).count().reset_index()"
   ]
  },
  {
   "cell_type": "code",
   "execution_count": 40,
   "metadata": {},
   "outputs": [
    {
     "data": {
      "text/html": [
       "<div>\n",
       "<style scoped>\n",
       "    .dataframe tbody tr th:only-of-type {\n",
       "        vertical-align: middle;\n",
       "    }\n",
       "\n",
       "    .dataframe tbody tr th {\n",
       "        vertical-align: top;\n",
       "    }\n",
       "\n",
       "    .dataframe thead th {\n",
       "        text-align: right;\n",
       "    }\n",
       "</style>\n",
       "<table border=\"1\" class=\"dataframe\">\n",
       "  <thead>\n",
       "    <tr style=\"text-align: right;\">\n",
       "      <th></th>\n",
       "      <th>iteration</th>\n",
       "      <th>trial</th>\n",
       "      <th>finger_type</th>\n",
       "      <th>isNeg</th>\n",
       "      <th>taxel</th>\n",
       "      <th>time</th>\n",
       "    </tr>\n",
       "  </thead>\n",
       "  <tbody>\n",
       "    <tr>\n",
       "      <th>0</th>\n",
       "      <td>1</td>\n",
       "      <td>2</td>\n",
       "      <td>left_finger</td>\n",
       "      <td>689</td>\n",
       "      <td>689</td>\n",
       "      <td>689</td>\n",
       "    </tr>\n",
       "    <tr>\n",
       "      <th>1</th>\n",
       "      <td>1</td>\n",
       "      <td>2</td>\n",
       "      <td>right_finger</td>\n",
       "      <td>449</td>\n",
       "      <td>449</td>\n",
       "      <td>449</td>\n",
       "    </tr>\n",
       "    <tr>\n",
       "      <th>2</th>\n",
       "      <td>1</td>\n",
       "      <td>3</td>\n",
       "      <td>left_finger</td>\n",
       "      <td>628</td>\n",
       "      <td>628</td>\n",
       "      <td>628</td>\n",
       "    </tr>\n",
       "    <tr>\n",
       "      <th>3</th>\n",
       "      <td>1</td>\n",
       "      <td>3</td>\n",
       "      <td>right_finger</td>\n",
       "      <td>669</td>\n",
       "      <td>669</td>\n",
       "      <td>669</td>\n",
       "    </tr>\n",
       "    <tr>\n",
       "      <th>4</th>\n",
       "      <td>2</td>\n",
       "      <td>2</td>\n",
       "      <td>left_finger</td>\n",
       "      <td>781</td>\n",
       "      <td>781</td>\n",
       "      <td>781</td>\n",
       "    </tr>\n",
       "    <tr>\n",
       "      <th>...</th>\n",
       "      <td>...</td>\n",
       "      <td>...</td>\n",
       "      <td>...</td>\n",
       "      <td>...</td>\n",
       "      <td>...</td>\n",
       "      <td>...</td>\n",
       "    </tr>\n",
       "    <tr>\n",
       "      <th>75</th>\n",
       "      <td>19</td>\n",
       "      <td>3</td>\n",
       "      <td>right_finger</td>\n",
       "      <td>287</td>\n",
       "      <td>287</td>\n",
       "      <td>287</td>\n",
       "    </tr>\n",
       "    <tr>\n",
       "      <th>76</th>\n",
       "      <td>20</td>\n",
       "      <td>2</td>\n",
       "      <td>left_finger</td>\n",
       "      <td>953</td>\n",
       "      <td>953</td>\n",
       "      <td>953</td>\n",
       "    </tr>\n",
       "    <tr>\n",
       "      <th>77</th>\n",
       "      <td>20</td>\n",
       "      <td>2</td>\n",
       "      <td>right_finger</td>\n",
       "      <td>453</td>\n",
       "      <td>453</td>\n",
       "      <td>453</td>\n",
       "    </tr>\n",
       "    <tr>\n",
       "      <th>78</th>\n",
       "      <td>20</td>\n",
       "      <td>3</td>\n",
       "      <td>left_finger</td>\n",
       "      <td>625</td>\n",
       "      <td>625</td>\n",
       "      <td>625</td>\n",
       "    </tr>\n",
       "    <tr>\n",
       "      <th>79</th>\n",
       "      <td>20</td>\n",
       "      <td>3</td>\n",
       "      <td>right_finger</td>\n",
       "      <td>355</td>\n",
       "      <td>355</td>\n",
       "      <td>355</td>\n",
       "    </tr>\n",
       "  </tbody>\n",
       "</table>\n",
       "<p>80 rows × 6 columns</p>\n",
       "</div>"
      ],
      "text/plain": [
       "    iteration  trial   finger_type  isNeg  taxel  time\n",
       "0           1      2   left_finger    689    689   689\n",
       "1           1      2  right_finger    449    449   449\n",
       "2           1      3   left_finger    628    628   628\n",
       "3           1      3  right_finger    669    669   669\n",
       "4           2      2   left_finger    781    781   781\n",
       "..        ...    ...           ...    ...    ...   ...\n",
       "75         19      3  right_finger    287    287   287\n",
       "76         20      2   left_finger    953    953   953\n",
       "77         20      2  right_finger    453    453   453\n",
       "78         20      3   left_finger    625    625   625\n",
       "79         20      3  right_finger    355    355   355\n",
       "\n",
       "[80 rows x 6 columns]"
      ]
     },
     "execution_count": 40,
     "metadata": {},
     "output_type": "execute_result"
    }
   ],
   "source": [
    "count_df"
   ]
  },
  {
   "cell_type": "code",
   "execution_count": 41,
   "metadata": {},
   "outputs": [
    {
     "data": {
      "image/png": "[encoded data removed]",
      "text/plain": [
       "<Figure size 1080x576 with 2 Axes>"
      ]
     },
     "metadata": {
      "needs_background": "light"
     },
     "output_type": "display_data"
    }
   ],
   "source": [
    "fig, ax = plt.subplots(nrows=2, ncols=1, figsize=(15,8))\n",
    "sns.barplot(ax=ax[0], x = 'trial', y='time',  data=count_df[count_df.finger_type=='left_finger'])\n",
    "#ax[0].set_ylim([3800,4700])\n",
    "ax[0].set_ylabel('Left finger total spike count')\n",
    "sns.barplot(ax=ax[1], x = 'trial', y='time',  data=count_df[count_df.finger_type=='right_finger'])\n",
    "#ax[1].set_ylim([1500, 1900])\n",
    "ax[1].set_ylabel('Right finger total count')\n",
    "plt.show()"
   ]
  },
  {
   "cell_type": "markdown",
   "metadata": {},
   "source": [
    "### Notes (finger-wise)\n",
    "1. Left finger spikes more than right one\n",
    "2. No correlation between spike counts for switching on and off"
   ]
  },
  {
   "cell_type": "code",
   "execution_count": 43,
   "metadata": {},
   "outputs": [],
   "source": [
    "count_df = df.groupby(['iteration', 'trial', 'finger_type', 'isNeg']).count().reset_index()"
   ]
  },
  {
   "cell_type": "code",
   "execution_count": 45,
   "metadata": {},
   "outputs": [
    {
     "data": {
      "image/png": "[encoded data removed]",
      "text/plain": [
       "<Figure size 1080x1152 with 4 Axes>"
      ]
     },
     "metadata": {
      "needs_background": "light"
     },
     "output_type": "display_data"
    }
   ],
   "source": [
    "fig, ax = plt.subplots(nrows=4, ncols=1, figsize=(15,16))\n",
    "\n",
    "left_finger_mask = (count_df.finger_type=='left_finger')\n",
    "right_finger_maks = ~left_finger_mask\n",
    "negative_mask = (count_df.isNeg == 1)\n",
    "positive_mask = ~negative_mask\n",
    "\n",
    "sns.barplot(ax=ax[0], x = 'trial', y='time',  data=count_df[left_finger_mask & positive_mask])\n",
    "#ax[0].set_ylim([1600,2200])\n",
    "ax[0].set_ylabel('Left finger positive spike count')\n",
    "sns.barplot(ax=ax[1], x = 'trial', y='time',  data=count_df[left_finger_mask & negative_mask])\n",
    "#ax[1].set_ylim([2000, 2600])\n",
    "ax[1].set_ylabel('Left finger negative spike count')\n",
    "\n",
    "sns.barplot(ax=ax[2], x = 'trial', y='time',  data=count_df[right_finger_maks & positive_mask])\n",
    "#ax[2].set_ylim([600,900])\n",
    "ax[2].set_ylabel('Right finger positive spike count')\n",
    "sns.barplot(ax=ax[3], x = 'trial', y='time',  data=count_df[right_finger_maks & negative_mask])\n",
    "#ax[3].set_ylim([800, 1200])\n",
    "ax[3].set_ylabel('Right finger negative spike count')\n",
    "\n",
    "plt.show()"
   ]
  },
  {
   "cell_type": "markdown",
   "metadata": {},
   "source": [
    "Notes (finger-wise)\n",
    "1. More negative spikes than positive ones"
   ]
  }
 ],
 "metadata": {
  "kernelspec": {
   "display_name": "Python 3",
   "language": "python",
   "name": "python3"
  },
  "language_info": {
   "codemirror_mode": {
    "name": "ipython",
    "version": 3
   },
   "file_extension": ".py",
   "mimetype": "text/x-python",
   "name": "python",
   "nbconvert_exporter": "python",
   "pygments_lexer": "ipython3",
   "version": "3.6.12"
  }
 },
 "nbformat": 4,
 "nbformat_minor": 4
}
