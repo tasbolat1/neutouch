{
 "cells": [
  {
   "cell_type": "code",
   "execution_count": 1,
   "metadata": {},
   "outputs": [],
   "source": [
    "import pandas as pd\n",
    "import seaborn as sn"
   ]
  },
  {
   "cell_type": "code",
   "execution_count": 6,
   "metadata": {},
   "outputs": [],
   "source": [
    "def read_file(fname):\n",
    "    df = pd.read_csv(fname, names=['isNeg', 'taxel', 'time', 'read_time', 'parse_time'], sep=' ')\n",
    "    df.time = df.time - df.time[0]\n",
    "    return df.drop(['read_time', 'parse_time'], axis=1)"
   ]
  },
  {
   "cell_type": "code",
   "execution_count": 7,
   "metadata": {},
   "outputs": [],
   "source": [
    "df = read_file('../../testing_out_spikes/some_test/soft_block_2.tact')"
   ]
  },
  {
   "cell_type": "code",
   "execution_count": 13,
   "metadata": {},
   "outputs": [],
   "source": [
    "df = df.groupby(['taxel'])['isNeg'].count().reset_index()"
   ]
  },
  {
   "cell_type": "code",
   "execution_count": 22,
   "metadata": {},
   "outputs": [],
   "source": [
    "x = df.values"
   ]
  },
  {
   "cell_type": "code",
   "execution_count": 23,
   "metadata": {},
   "outputs": [
    {
     "data": {
      "text/plain": [
       "array([[  0, 207],\n",
       "       [  1, 637],\n",
       "       [  2, 297],\n",
       "       [  3, 230],\n",
       "       [  4, 449],\n",
       "       [  5, 620],\n",
       "       [  6, 275],\n",
       "       [  7, 563],\n",
       "       [  8, 167],\n",
       "       [  9, 411],\n",
       "       [ 10, 666],\n",
       "       [ 11,  26],\n",
       "       [ 12, 524],\n",
       "       [ 13, 404],\n",
       "       [ 14, 300],\n",
       "       [ 15, 520],\n",
       "       [ 18,   3],\n",
       "       [ 20, 121],\n",
       "       [ 24, 298],\n",
       "       [ 25, 246],\n",
       "       [ 27,  33],\n",
       "       [ 28,  83],\n",
       "       [ 29, 350],\n",
       "       [ 30, 320],\n",
       "       [ 31, 367],\n",
       "       [ 32, 283],\n",
       "       [ 33, 451],\n",
       "       [ 34, 172],\n",
       "       [ 35, 191],\n",
       "       [ 36, 316],\n",
       "       [ 37, 209],\n",
       "       [ 38, 393],\n",
       "       [ 39, 523],\n",
       "       [ 40, 401],\n",
       "       [ 44, 127],\n",
       "       [ 46, 188],\n",
       "       [ 49, 442],\n",
       "       [ 51, 117],\n",
       "       [ 53, 321],\n",
       "       [ 54,  12],\n",
       "       [ 55, 116],\n",
       "       [ 58, 558],\n",
       "       [ 60, 171],\n",
       "       [ 63, 225],\n",
       "       [ 65, 401],\n",
       "       [ 66, 138],\n",
       "       [ 70, 289]])"
      ]
     },
     "execution_count": 23,
     "metadata": {},
     "output_type": "execute_result"
    }
   ],
   "source": [
    "x"
   ]
  },
  {
   "cell_type": "code",
   "execution_count": 35,
   "metadata": {},
   "outputs": [],
   "source": [
    "import numpy as np\n",
    "import matplotlib.pyplot as plt\n",
    "left_taxels = np.load('../assets/left_tax_locs.npy')\n",
    "right_taxels = np.load('../assets/right_tax_locs.npy')\n",
    "empty_taxels = right_taxels.copy()\n",
    "empty_taxels[right_taxels!=0] = 255\n",
    "\n",
    "left_finger_idx = np.unique(left_taxels)[1:]\n",
    "right_taxels_idx = np.unique(right_taxels)[1:]"
   ]
  },
  {
   "cell_type": "code",
   "execution_count": 61,
   "metadata": {},
   "outputs": [],
   "source": [
    "def plot_taxels(x, ax, finger='left'):\n",
    "    if finger=='left':\n",
    "        finger_idx = left_finger_idx\n",
    "        taxels = left_taxels\n",
    "    else:\n",
    "        finger_idx = right_taxels_idx\n",
    "        taxels = right_taxels\n",
    "    for i, j in x:\n",
    "        if i in left_finger_idx:\n",
    "            empty_taxels[taxels==i] = j\n",
    "    ax.imshow(empty_taxels, cmap='Blues')"
   ]
  },
  {
   "cell_type": "code",
   "execution_count": 62,
   "metadata": {},
   "outputs": [
    {
     "name": "stdout",
     "output_type": "stream",
     "text": [
      "[[0 0 0 ... 0 0 0]\n",
      " [0 0 0 ... 0 0 0]\n",
      " [0 0 0 ... 0 0 0]\n",
      " ...\n",
      " [0 0 0 ... 0 0 0]\n",
      " [0 0 0 ... 0 0 0]\n",
      " [0 0 0 ... 0 0 0]]\n"
     ]
    },
    {
     "data": {
      "image/png": "[encoded data removed]",
      "text/plain": [
       "<Figure size 432x288 with 1 Axes>"
      ]
     },
     "metadata": {
      "needs_background": "light"
     },
     "output_type": "display_data"
    }
   ],
   "source": [
    "fig, ax = plt.subplots()\n",
    "plt.axis(False)\n",
    "plot_taxels(x, ax=ax, finger='left')"
   ]
  },
  {
   "cell_type": "code",
   "execution_count": null,
   "metadata": {},
   "outputs": [],
   "source": []
  }
 ],
 "metadata": {
  "kernelspec": {
   "display_name": "Python 3",
   "language": "python",
   "name": "python3"
  },
  "language_info": {
   "codemirror_mode": {
    "name": "ipython",
    "version": 3
   },
   "file_extension": ".py",
   "mimetype": "text/x-python",
   "name": "python",
   "nbconvert_exporter": "python",
   "pygments_lexer": "ipython3",
   "version": "3.6.12"
  }
 },
 "nbformat": 4,
 "nbformat_minor": 4
}
