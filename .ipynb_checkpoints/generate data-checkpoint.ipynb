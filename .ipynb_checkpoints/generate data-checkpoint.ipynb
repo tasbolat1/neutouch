{
 "cells": [
  {
   "cell_type": "code",
   "execution_count": 7,
   "metadata": {},
   "outputs": [],
   "source": [
    "import torch\n",
    "import slayerSNN as snn\n",
    "from utils.helper import  *"
   ]
  },
  {
   "cell_type": "markdown",
   "metadata": {},
   "source": [
    "### 1. Van rossum distance\n",
    "\n",
    "1. Prepare data\n",
    "2. Get portions"
   ]
  },
  {
   "cell_type": "code",
   "execution_count": 8,
   "metadata": {},
   "outputs": [],
   "source": [
    "# so length is 1.2 seconds\n",
    "# stiff_block: 2.5-3.6\n",
    "# carton_box: 0.8-2.0\n",
    "# soft-box:2.3 - 3.5\n",
    "# sponge: 2.8 - 4\n",
    "objs_times={\n",
    "    'stiff_block':[2.65, 3.6],\n",
    "    'carton_box':[0.9, 2.0],\n",
    "    'soft_block':[2.45, 3.5],\n",
    "    'sponge':[2.9, 4]\n",
    "}"
   ]
  },
  {
   "cell_type": "code",
   "execution_count": 38,
   "metadata": {},
   "outputs": [],
   "source": [
    "class TactileData:\n",
    "    def __init__(self, df, start_time, end_time):\n",
    "        self.df = df\n",
    "        \n",
    "        self.start_t = start_time\n",
    "        self.end_t= start_time+1.1# 1.1\n",
    "        self.threshold = 1\n",
    "        \n",
    "        self.T = self.end_t - self.start_t\n",
    "\n",
    "    def binarize(self, bin_duration):\n",
    "        bin_number = int(np.ceil(self.T / bin_duration))\n",
    "        data_matrix = np.zeros([79, 2, bin_number], dtype=int)\n",
    "\n",
    "        pos_df = self.df[self.df.isNeg == 0]\n",
    "        neg_df = self.df[self.df.isNeg == 1]\n",
    "\n",
    "        end_t = self.start_t + bin_duration\n",
    "        count = 0\n",
    "\n",
    "        init_t = self.start_t\n",
    "\n",
    "        while end_t <= self.T + init_t:  # start_t <= self.T\n",
    "            _pos_count = pos_df[\n",
    "                ((pos_df.time >= self.start_t) & (pos_df.time < end_t))\n",
    "            ]\n",
    "            _pos_selective_cells = _pos_count.taxel.value_counts() > self.threshold\n",
    "\n",
    "            if len(_pos_selective_cells):\n",
    "                data_matrix[\n",
    "                    _pos_selective_cells[_pos_selective_cells].index.values - 1,\n",
    "                    0,\n",
    "                    count,\n",
    "                ] = 1\n",
    "\n",
    "            _neg_count = neg_df[\n",
    "                ((neg_df.time >= self.start_t) & (neg_df.time < end_t))\n",
    "            ]\n",
    "            _neg_selective_cells = _neg_count.taxel.value_counts() > self.threshold\n",
    "            if len(_neg_selective_cells):\n",
    "                data_matrix[\n",
    "                    _neg_selective_cells[_neg_selective_cells].index.values - 1,\n",
    "                    1,\n",
    "                    count,\n",
    "                ] = 1\n",
    "            self.start_t = end_t\n",
    "            end_t += bin_duration\n",
    "            count += 1\n",
    "\n",
    "        data_matrix = np.delete(data_matrix, [59], 0)\n",
    "        return data_matrix"
   ]
  },
  {
   "cell_type": "code",
   "execution_count": 39,
   "metadata": {},
   "outputs": [],
   "source": [
    "f_dir = 'diagnostic_data/class_test/'\n",
    "f_save = 'diagnostic_data/train_test_data/'\n",
    "# read all trials\n",
    "n_trials = 2\n",
    "n_iter = 20\n",
    "all_trials = list()\n",
    "obj_list = []\n",
    "iter_list = []\n",
    "trial_list = []\n",
    "big_data = []\n",
    "for obj, t  in objs_times.items():\n",
    "    for i in range(1,n_trials+1):\n",
    "        for j in range(1,n_iter+1):\n",
    "            fname = f_dir + f\"{obj}_trial{i}_{j}\"\n",
    "            temp_df_rbtq, start_time = read_robotiq(fname+'.rbtq')\n",
    "            temp_df = read_tac_file2(fname+'.tact', start_time)\n",
    "            temp_df = temp_df[(temp_df.taxel != 0) & (temp_df.taxel != 60) & (temp_df.taxel <= 79)]\n",
    "            temp_df = temp_df[ (temp_df.time >= t[0]) & (temp_df.time < t[1]) ]\n",
    "            temp_df = temp_df.reset_index()\n",
    "            a = TactileData(temp_df, t[0], t[1])\n",
    "            b = a.binarize(0.01)\n",
    "            fname_save = f_save + f\"{obj}_trial{i}_{j}.pt\"\n",
    "            b = torch.FloatTensor(b)\n",
    "            #torch.save(b, fname_save)\n",
    "            big_data.append(b)\n",
    "            obj_list.append(obj)\n",
    "            iter_list.append(j)\n",
    "            trial_list.append(i)"
   ]
  },
  {
   "cell_type": "code",
   "execution_count": 40,
   "metadata": {},
   "outputs": [],
   "source": [
    "# for i in range(160):\n",
    "#     print(big_data[i].shape)"
   ]
  },
  {
   "cell_type": "code",
   "execution_count": 41,
   "metadata": {},
   "outputs": [],
   "source": [
    "big_data_pt = torch.stack(big_data, dim=0)"
   ]
  },
  {
   "cell_type": "code",
   "execution_count": 42,
   "metadata": {},
   "outputs": [
    {
     "data": {
      "text/plain": [
       "torch.Size([160, 78, 2, 220])"
      ]
     },
     "execution_count": 42,
     "metadata": {},
     "output_type": "execute_result"
    }
   ],
   "source": [
    "big_data_pt.shape"
   ]
  },
  {
   "cell_type": "code",
   "execution_count": 43,
   "metadata": {},
   "outputs": [],
   "source": [
    "torch.save(big_data_pt, f_save+'all.pt')"
   ]
  },
  {
   "cell_type": "code",
   "execution_count": 36,
   "metadata": {},
   "outputs": [],
   "source": [
    "import pickle\n",
    "pickle.dump([obj_list, iter_list, trial_list], open(f_save+'info.pkl','wb'))"
   ]
  },
  {
   "cell_type": "code",
   "execution_count": null,
   "metadata": {},
   "outputs": [],
   "source": [
    "# generate sample file\n",
    "# 4-fold"
   ]
  },
  {
   "cell_type": "code",
   "execution_count": null,
   "metadata": {},
   "outputs": [],
   "source": [
    "count = 0\n",
    "train_labels = []\n",
    "test_labels = []\n",
    "current_label = 0\n",
    "for obj, t  in objs_times.items():\n",
    "    for i in range(1,n_trials+1):\n",
    "        for j in range(1,n_iter+1):\n",
    "            if i == 2:\n",
    "                test_labels.append([count, current_label])\n",
    "            else:\n",
    "                train_labels.append([count, current_label])\n",
    "            count += 1\n",
    "    current_label += 1"
   ]
  },
  {
   "cell_type": "code",
   "execution_count": null,
   "metadata": {},
   "outputs": [],
   "source": [
    "from sklearn.model_selection import StratifiedKFold\n",
    "train_labels = np.array(train_labels)"
   ]
  },
  {
   "cell_type": "code",
   "execution_count": null,
   "metadata": {},
   "outputs": [],
   "source": [
    "skf = StratifiedKFold(n_splits=4, random_state=100, shuffle=True)\n",
    "train_indices = []\n",
    "test_indices = []\n",
    "\n",
    "for train_index, test_index in skf.split(np.zeros(len(train_labels)), train_labels[:, 1]):\n",
    "    train_indices.append(train_index)\n",
    "    test_indices.append(test_index)"
   ]
  },
  {
   "cell_type": "code",
   "execution_count": null,
   "metadata": {},
   "outputs": [],
   "source": [
    "test_indices"
   ]
  },
  {
   "cell_type": "code",
   "execution_count": null,
   "metadata": {},
   "outputs": [],
   "source": [
    "from pathlib import Path"
   ]
  },
  {
   "cell_type": "code",
   "execution_count": null,
   "metadata": {},
   "outputs": [],
   "source": [
    "for split in range(4):\n",
    "    np.savetxt(\n",
    "        Path(f_save) / f\"train_{split+1}.txt\",\n",
    "        np.array(train_labels[train_indices[split], :], dtype=int),\n",
    "        fmt=\"%d\",\n",
    "        delimiter=\"\\t\",\n",
    "    )\n",
    "    np.savetxt(\n",
    "        Path(f_save) / f\"val_{split+1}.txt\",\n",
    "        np.array(train_labels[test_indices[split], :], dtype=int),\n",
    "        fmt=\"%d\",\n",
    "        delimiter=\"\\t\",\n",
    "    )"
   ]
  },
  {
   "cell_type": "code",
   "execution_count": null,
   "metadata": {},
   "outputs": [],
   "source": [
    "np.savetxt(\n",
    "    Path(f_save) / f\"test.txt\",\n",
    "    np.array(np.array(test_labels), dtype=int),\n",
    "    fmt=\"%d\",\n",
    "    delimiter=\"\\t\",\n",
    ")"
   ]
  }
 ],
 "metadata": {
  "kernelspec": {
   "display_name": "Python 3",
   "language": "python",
   "name": "python3"
  },
  "language_info": {
   "codemirror_mode": {
    "name": "ipython",
    "version": 3
   },
   "file_extension": ".py",
   "mimetype": "text/x-python",
   "name": "python",
   "nbconvert_exporter": "python",
   "pygments_lexer": "ipython3",
   "version": "3.8.5"
  }
 },
 "nbformat": 4,
 "nbformat_minor": 4
}
