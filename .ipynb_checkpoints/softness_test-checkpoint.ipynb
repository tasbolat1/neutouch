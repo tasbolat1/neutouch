{
 "cells": [
  {
   "cell_type": "code",
   "execution_count": 1,
   "metadata": {},
   "outputs": [],
   "source": [
    "from utils.helper import  *\n",
    "import matplotlib.pyplot as plt\n",
    "import seaborn as sns\n",
    "import numpy as np"
   ]
  },
  {
   "cell_type": "code",
   "execution_count": 10,
   "metadata": {},
   "outputs": [],
   "source": [
    "f_dir = 'diagnostic_data/softness_test/'\n",
    "# read all trials\n",
    "n_trials = 1\n",
    "n_iter = 20\n",
    "objs=['stiff_block' ,'sponge', 'soft_block']\n",
    "all_trials = list()\n",
    "all_trials_rbtq = list()\n",
    "\n",
    "for i in range(1,n_trials+1):\n",
    "    for j in range(1,n_iter+1):\n",
    "        for obj in objs:\n",
    "            if (i == 1) & (j == 20):\n",
    "                continue\n",
    "                \n",
    "            fname = f_dir + f\"{obj}_trial{i}_{j}\"\n",
    "            temp_df_rbtq, start_time = read_robotiq(fname+'.rbtq')\n",
    "            temp_df = read_tac_file2(fname+'.tact', start_time)\n",
    "            temp_df = temp_df[temp_df.taxel != 0]\n",
    "            temp_df = temp_df.assign(iteration = j)\n",
    "            temp_df = temp_df.assign(obj = obj)\n",
    "            all_trials.append(temp_df)\n",
    "            \n",
    "            temp_df_rbtq = temp_df_rbtq.assign(iteration = j)\n",
    "            temp_df_rbtq = temp_df_rbtq.assign(obj = obj)\n",
    "            all_trials_rbtq.append(temp_df_rbtq)"
   ]
  },
  {
   "cell_type": "code",
   "execution_count": 3,
   "metadata": {},
   "outputs": [],
   "source": [
    "#start_time"
   ]
  },
  {
   "cell_type": "code",
   "execution_count": 11,
   "metadata": {},
   "outputs": [],
   "source": [
    "df_rbtq = pd.concat(all_trials_rbtq)\n",
    "df = pd.concat(all_trials)\n",
    "def map_to_finger(taxel_id):\n",
    "    if (taxel_id <= 39) & (taxel_id >=1):\n",
    "        return 'left_finger'\n",
    "    else :\n",
    "        return 'right_finger'\n",
    "\n",
    "df = df.assign(finger_type = df.taxel.apply(map_to_finger))"
   ]
  },
  {
   "cell_type": "code",
   "execution_count": 13,
   "metadata": {},
   "outputs": [
    {
     "data": {
      "text/plain": [
       "1604831355.81252"
      ]
     },
     "execution_count": 13,
     "metadata": {},
     "output_type": "execute_result"
    }
   ],
   "source": [
    "start_time"
   ]
  },
  {
   "cell_type": "code",
   "execution_count": 12,
   "metadata": {},
   "outputs": [
    {
     "data": {
      "text/html": [
       "<div>\n",
       "<style scoped>\n",
       "    .dataframe tbody tr th:only-of-type {\n",
       "        vertical-align: middle;\n",
       "    }\n",
       "\n",
       "    .dataframe tbody tr th {\n",
       "        vertical-align: top;\n",
       "    }\n",
       "\n",
       "    .dataframe thead th {\n",
       "        text-align: right;\n",
       "    }\n",
       "</style>\n",
       "<table border=\"1\" class=\"dataframe\">\n",
       "  <thead>\n",
       "    <tr style=\"text-align: right;\">\n",
       "      <th></th>\n",
       "      <th>isNeg</th>\n",
       "      <th>taxel</th>\n",
       "      <th>time</th>\n",
       "      <th>iteration</th>\n",
       "      <th>obj</th>\n",
       "    </tr>\n",
       "  </thead>\n",
       "  <tbody>\n",
       "    <tr>\n",
       "      <th>0</th>\n",
       "      <td>0</td>\n",
       "      <td>10</td>\n",
       "      <td>11.668705</td>\n",
       "      <td>19</td>\n",
       "      <td>soft_block</td>\n",
       "    </tr>\n",
       "    <tr>\n",
       "      <th>1</th>\n",
       "      <td>0</td>\n",
       "      <td>10</td>\n",
       "      <td>11.668679</td>\n",
       "      <td>19</td>\n",
       "      <td>soft_block</td>\n",
       "    </tr>\n",
       "    <tr>\n",
       "      <th>2</th>\n",
       "      <td>0</td>\n",
       "      <td>10</td>\n",
       "      <td>11.668664</td>\n",
       "      <td>19</td>\n",
       "      <td>soft_block</td>\n",
       "    </tr>\n",
       "    <tr>\n",
       "      <th>3</th>\n",
       "      <td>0</td>\n",
       "      <td>10</td>\n",
       "      <td>11.668650</td>\n",
       "      <td>19</td>\n",
       "      <td>soft_block</td>\n",
       "    </tr>\n",
       "    <tr>\n",
       "      <th>4</th>\n",
       "      <td>0</td>\n",
       "      <td>10</td>\n",
       "      <td>11.652551</td>\n",
       "      <td>19</td>\n",
       "      <td>soft_block</td>\n",
       "    </tr>\n",
       "    <tr>\n",
       "      <th>...</th>\n",
       "      <td>...</td>\n",
       "      <td>...</td>\n",
       "      <td>...</td>\n",
       "      <td>...</td>\n",
       "      <td>...</td>\n",
       "    </tr>\n",
       "    <tr>\n",
       "      <th>13557</th>\n",
       "      <td>1</td>\n",
       "      <td>6</td>\n",
       "      <td>9.757257</td>\n",
       "      <td>19</td>\n",
       "      <td>soft_block</td>\n",
       "    </tr>\n",
       "    <tr>\n",
       "      <th>13558</th>\n",
       "      <td>1</td>\n",
       "      <td>35</td>\n",
       "      <td>9.757234</td>\n",
       "      <td>19</td>\n",
       "      <td>soft_block</td>\n",
       "    </tr>\n",
       "    <tr>\n",
       "      <th>13559</th>\n",
       "      <td>1</td>\n",
       "      <td>6</td>\n",
       "      <td>9.757218</td>\n",
       "      <td>19</td>\n",
       "      <td>soft_block</td>\n",
       "    </tr>\n",
       "    <tr>\n",
       "      <th>13560</th>\n",
       "      <td>1</td>\n",
       "      <td>6</td>\n",
       "      <td>9.757205</td>\n",
       "      <td>19</td>\n",
       "      <td>soft_block</td>\n",
       "    </tr>\n",
       "    <tr>\n",
       "      <th>13561</th>\n",
       "      <td>1</td>\n",
       "      <td>6</td>\n",
       "      <td>9.757193</td>\n",
       "      <td>19</td>\n",
       "      <td>soft_block</td>\n",
       "    </tr>\n",
       "  </tbody>\n",
       "</table>\n",
       "<p>13209 rows × 5 columns</p>\n",
       "</div>"
      ],
      "text/plain": [
       "       isNeg  taxel       time  iteration         obj\n",
       "0          0     10  11.668705         19  soft_block\n",
       "1          0     10  11.668679         19  soft_block\n",
       "2          0     10  11.668664         19  soft_block\n",
       "3          0     10  11.668650         19  soft_block\n",
       "4          0     10  11.652551         19  soft_block\n",
       "...      ...    ...        ...        ...         ...\n",
       "13557      1      6   9.757257         19  soft_block\n",
       "13558      1     35   9.757234         19  soft_block\n",
       "13559      1      6   9.757218         19  soft_block\n",
       "13560      1      6   9.757205         19  soft_block\n",
       "13561      1      6   9.757193         19  soft_block\n",
       "\n",
       "[13209 rows x 5 columns]"
      ]
     },
     "execution_count": 12,
     "metadata": {},
     "output_type": "execute_result"
    }
   ],
   "source": [
    "temp_df"
   ]
  },
  {
   "cell_type": "code",
   "execution_count": null,
   "metadata": {},
   "outputs": [],
   "source": [
    "1604831340.802156"
   ]
  },
  {
   "cell_type": "code",
   "execution_count": 9,
   "metadata": {},
   "outputs": [
    {
     "data": {
      "text/plain": [
       "1604831344.143815"
      ]
     },
     "execution_count": 9,
     "metadata": {},
     "output_type": "execute_result"
    }
   ],
   "source": [
    "temp_df.time[0]"
   ]
  },
  {
   "cell_type": "code",
   "execution_count": 8,
   "metadata": {},
   "outputs": [
    {
     "data": {
      "text/plain": [
       "('soft_block', 20)"
      ]
     },
     "execution_count": 8,
     "metadata": {},
     "output_type": "execute_result"
    }
   ],
   "source": [
    "obj, j"
   ]
  },
  {
   "cell_type": "code",
   "execution_count": null,
   "metadata": {},
   "outputs": [],
   "source": [
    "df"
   ]
  },
  {
   "cell_type": "code",
   "execution_count": null,
   "metadata": {},
   "outputs": [],
   "source": [
    "df_rbtq.head()"
   ]
  },
  {
   "cell_type": "markdown",
   "metadata": {},
   "source": [
    "### Spike Counts\n",
    "1. Total\n",
    "2. By polarity\n",
    "3. By obj"
   ]
  },
  {
   "cell_type": "code",
   "execution_count": null,
   "metadata": {},
   "outputs": [],
   "source": [
    "count_df = df.groupby(['obj', 'isNeg', 'iteration']).count().reset_index()"
   ]
  },
  {
   "cell_type": "code",
   "execution_count": null,
   "metadata": {},
   "outputs": [],
   "source": [
    "count_df"
   ]
  },
  {
   "cell_type": "code",
   "execution_count": null,
   "metadata": {},
   "outputs": [],
   "source": [
    "fig, ax = plt.subplots(figsize=(15,8))\n",
    "sns.barplot(ax=ax, x = 'obj', y='time', hue='isNeg', data=count_df)\n",
    "ax.set_ylim([3500,6500])\n",
    "ax.set_ylabel('Total spike count')\n",
    "plt.show()"
   ]
  },
  {
   "cell_type": "code",
   "execution_count": null,
   "metadata": {},
   "outputs": [],
   "source": [
    "### See spikes over time\n",
    "t_range = np.linspace(0, 2, 100)\n",
    "df_bin_range = pd.cut(df.time, t_range)\n",
    "groups = df.groupby(['iteration', 'finger_type','obj', df_bin_range]).count()\n",
    "count_df = groups.add_suffix('_count').reset_index()\n",
    "def map_to_cat(x):\n",
    "    return np.float(x.right)\n",
    "count_df = count_df.assign(time_int = count_df.time.apply(map_to_cat).astype(np.float))"
   ]
  },
  {
   "cell_type": "code",
   "execution_count": null,
   "metadata": {},
   "outputs": [],
   "source": [
    "fig, ax = plt.subplots(3,figsize=(15,8*3))\n",
    "for i in range(3):\n",
    "    sns.lineplot(ax=ax[i], x = 'time_int', y='taxel_count', hue='finger_type', data=count_df[count_df.obj == objs[i]])\n",
    "    #ax.set_ylim([3500,6500])\n",
    "    ax[i].set_title(objs[i])\n",
    "    ax[i].set_ylabel('Total spike count')\n",
    "plt.show()"
   ]
  },
  {
   "cell_type": "code",
   "execution_count": null,
   "metadata": {},
   "outputs": [],
   "source": []
  }
 ],
 "metadata": {
  "kernelspec": {
   "display_name": "Python 3",
   "language": "python",
   "name": "python3"
  },
  "language_info": {
   "codemirror_mode": {
    "name": "ipython",
    "version": 3
   },
   "file_extension": ".py",
   "mimetype": "text/x-python",
   "name": "python",
   "nbconvert_exporter": "python",
   "pygments_lexer": "ipython3",
   "version": "3.7.5"
  }
 },
 "nbformat": 4,
 "nbformat_minor": 4
}
