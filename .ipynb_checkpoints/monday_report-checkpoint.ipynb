{
 "cells": [
  {
   "cell_type": "markdown",
   "metadata": {},
   "source": [
    "Plan:\n",
    "\n",
    "1. Mechanical issue?\n",
    "2. Classification of 2 soft and 2 stiff objects.\n",
    "3. Transducer cover"
   ]
  },
  {
   "cell_type": "markdown",
   "metadata": {},
   "source": [
    "### 1. Mechanical issue"
   ]
  },
  {
   "cell_type": "code",
   "execution_count": 1,
   "metadata": {},
   "outputs": [],
   "source": [
    "from utils.helper import  *\n",
    "import matplotlib.pyplot as plt\n",
    "import seaborn as sns\n",
    "import numpy as np"
   ]
  },
  {
   "cell_type": "code",
   "execution_count": 12,
   "metadata": {},
   "outputs": [],
   "source": [
    "f_dir = 'diagnostic_data/class_test/'\n",
    "# read all trials\n",
    "n_trials = 2\n",
    "n_iter = 20\n",
    "objs=['stiff_block', 'carton_box', 'soft_block', 'sponge']\n",
    "all_trials = list()\n",
    "all_trials_rbtq = list()\n",
    "\n",
    "for i in range(1,n_trials+1):\n",
    "    for j in range(1,n_iter+1):\n",
    "        obj = 'stiff_block'\n",
    "        if (i == 1) & (j == 20):\n",
    "            continue\n",
    "\n",
    "        fname = f_dir + f\"{obj}_trial{i}_{j}\"\n",
    "        temp_df_rbtq, start_time = read_robotiq(fname+'.rbtq')\n",
    "\n",
    "        temp_df_rbtq = temp_df_rbtq.assign(iteration = j)\n",
    "        temp_df_rbtq = temp_df_rbtq.assign(obj = obj)\n",
    "        all_trials_rbtq.append(temp_df_rbtq)\n",
    "\n",
    "        temp_df = read_tac_file2(fname+'.tact', start_time)\n",
    "        #print(temp_df_rbtq.time[0], temp_df.time[0])\n",
    "        temp_df = temp_df[temp_df.taxel != 0]\n",
    "        temp_df = temp_df.assign(iteration = j)\n",
    "        temp_df = temp_df.assign(obj = obj)\n",
    "        temp_df = temp_df.assign(trials=i)\n",
    "        all_trials.append(temp_df)"
   ]
  },
  {
   "cell_type": "code",
   "execution_count": 13,
   "metadata": {},
   "outputs": [],
   "source": [
    "df_rbtq = pd.concat(all_trials_rbtq)\n",
    "df = pd.concat(all_trials)\n",
    "def map_to_finger(taxel_id):\n",
    "    if (taxel_id <= 39) & (taxel_id >=1):\n",
    "        return 'left_finger'\n",
    "    else :\n",
    "        return 'right_finger'\n",
    "\n",
    "df = df.assign(finger_type = df.taxel.apply(map_to_finger))"
   ]
  },
  {
   "cell_type": "code",
   "execution_count": 15,
   "metadata": {},
   "outputs": [],
   "source": [
    "count_df = df.groupby(['obj', 'isNeg', 'iteration', 'trials', 'finger_type']).count().reset_index()"
   ]
  },
  {
   "cell_type": "code",
   "execution_count": 17,
   "metadata": {},
   "outputs": [
    {
     "data": {
      "text/html": [
       "<div>\n",
       "<style scoped>\n",
       "    .dataframe tbody tr th:only-of-type {\n",
       "        vertical-align: middle;\n",
       "    }\n",
       "\n",
       "    .dataframe tbody tr th {\n",
       "        vertical-align: top;\n",
       "    }\n",
       "\n",
       "    .dataframe thead th {\n",
       "        text-align: right;\n",
       "    }\n",
       "</style>\n",
       "<table border=\"1\" class=\"dataframe\">\n",
       "  <thead>\n",
       "    <tr style=\"text-align: right;\">\n",
       "      <th></th>\n",
       "      <th>obj</th>\n",
       "      <th>isNeg</th>\n",
       "      <th>iteration</th>\n",
       "      <th>trials</th>\n",
       "      <th>taxel</th>\n",
       "      <th>time</th>\n",
       "      <th>finger_type</th>\n",
       "    </tr>\n",
       "  </thead>\n",
       "  <tbody>\n",
       "    <tr>\n",
       "      <th>0</th>\n",
       "      <td>stiff_block</td>\n",
       "      <td>0</td>\n",
       "      <td>1</td>\n",
       "      <td>1</td>\n",
       "      <td>2824</td>\n",
       "      <td>2824</td>\n",
       "      <td>2824</td>\n",
       "    </tr>\n",
       "    <tr>\n",
       "      <th>1</th>\n",
       "      <td>stiff_block</td>\n",
       "      <td>0</td>\n",
       "      <td>1</td>\n",
       "      <td>2</td>\n",
       "      <td>2888</td>\n",
       "      <td>2888</td>\n",
       "      <td>2888</td>\n",
       "    </tr>\n",
       "    <tr>\n",
       "      <th>2</th>\n",
       "      <td>stiff_block</td>\n",
       "      <td>0</td>\n",
       "      <td>2</td>\n",
       "      <td>1</td>\n",
       "      <td>2868</td>\n",
       "      <td>2868</td>\n",
       "      <td>2868</td>\n",
       "    </tr>\n",
       "    <tr>\n",
       "      <th>3</th>\n",
       "      <td>stiff_block</td>\n",
       "      <td>0</td>\n",
       "      <td>2</td>\n",
       "      <td>2</td>\n",
       "      <td>2986</td>\n",
       "      <td>2986</td>\n",
       "      <td>2986</td>\n",
       "    </tr>\n",
       "    <tr>\n",
       "      <th>4</th>\n",
       "      <td>stiff_block</td>\n",
       "      <td>0</td>\n",
       "      <td>3</td>\n",
       "      <td>1</td>\n",
       "      <td>3385</td>\n",
       "      <td>3385</td>\n",
       "      <td>3385</td>\n",
       "    </tr>\n",
       "    <tr>\n",
       "      <th>...</th>\n",
       "      <td>...</td>\n",
       "      <td>...</td>\n",
       "      <td>...</td>\n",
       "      <td>...</td>\n",
       "      <td>...</td>\n",
       "      <td>...</td>\n",
       "      <td>...</td>\n",
       "    </tr>\n",
       "    <tr>\n",
       "      <th>73</th>\n",
       "      <td>stiff_block</td>\n",
       "      <td>1</td>\n",
       "      <td>18</td>\n",
       "      <td>1</td>\n",
       "      <td>2330</td>\n",
       "      <td>2330</td>\n",
       "      <td>2330</td>\n",
       "    </tr>\n",
       "    <tr>\n",
       "      <th>74</th>\n",
       "      <td>stiff_block</td>\n",
       "      <td>1</td>\n",
       "      <td>18</td>\n",
       "      <td>2</td>\n",
       "      <td>1765</td>\n",
       "      <td>1765</td>\n",
       "      <td>1765</td>\n",
       "    </tr>\n",
       "    <tr>\n",
       "      <th>75</th>\n",
       "      <td>stiff_block</td>\n",
       "      <td>1</td>\n",
       "      <td>19</td>\n",
       "      <td>1</td>\n",
       "      <td>2157</td>\n",
       "      <td>2157</td>\n",
       "      <td>2157</td>\n",
       "    </tr>\n",
       "    <tr>\n",
       "      <th>76</th>\n",
       "      <td>stiff_block</td>\n",
       "      <td>1</td>\n",
       "      <td>19</td>\n",
       "      <td>2</td>\n",
       "      <td>1557</td>\n",
       "      <td>1557</td>\n",
       "      <td>1557</td>\n",
       "    </tr>\n",
       "    <tr>\n",
       "      <th>77</th>\n",
       "      <td>stiff_block</td>\n",
       "      <td>1</td>\n",
       "      <td>20</td>\n",
       "      <td>2</td>\n",
       "      <td>1744</td>\n",
       "      <td>1744</td>\n",
       "      <td>1744</td>\n",
       "    </tr>\n",
       "  </tbody>\n",
       "</table>\n",
       "<p>78 rows × 7 columns</p>\n",
       "</div>"
      ],
      "text/plain": [
       "            obj  isNeg  iteration  trials  taxel  time  finger_type\n",
       "0   stiff_block      0          1       1   2824  2824         2824\n",
       "1   stiff_block      0          1       2   2888  2888         2888\n",
       "2   stiff_block      0          2       1   2868  2868         2868\n",
       "3   stiff_block      0          2       2   2986  2986         2986\n",
       "4   stiff_block      0          3       1   3385  3385         3385\n",
       "..          ...    ...        ...     ...    ...   ...          ...\n",
       "73  stiff_block      1         18       1   2330  2330         2330\n",
       "74  stiff_block      1         18       2   1765  1765         1765\n",
       "75  stiff_block      1         19       1   2157  2157         2157\n",
       "76  stiff_block      1         19       2   1557  1557         1557\n",
       "77  stiff_block      1         20       2   1744  1744         1744\n",
       "\n",
       "[78 rows x 7 columns]"
      ]
     },
     "execution_count": 17,
     "metadata": {},
     "output_type": "execute_result"
    }
   ],
   "source": [
    "count_df"
   ]
  },
  {
   "cell_type": "code",
   "execution_count": 19,
   "metadata": {},
   "outputs": [
    {
     "data": {
      "image/png": "[encoded data removed]",
      "text/plain": [
       "<Figure size 1080x576 with 1 Axes>"
      ]
     },
     "metadata": {
      "needs_background": "light"
     },
     "output_type": "display_data"
    }
   ],
   "source": [
    "fig, ax = plt.subplots(figsize=(15,8))\n",
    "sns.barplot(ax=ax, x = 'trials', y='time', hue='isNeg', data=count_df)\n",
    "ax.set_ylabel('Total spike count')\n",
    "plt.show()"
   ]
  },
  {
   "cell_type": "code",
   "execution_count": null,
   "metadata": {},
   "outputs": [],
   "source": []
  }
 ],
 "metadata": {
  "kernelspec": {
   "display_name": "Python 3",
   "language": "python",
   "name": "python3"
  },
  "language_info": {
   "codemirror_mode": {
    "name": "ipython",
    "version": 3
   },
   "file_extension": ".py",
   "mimetype": "text/x-python",
   "name": "python",
   "nbconvert_exporter": "python",
   "pygments_lexer": "ipython3",
   "version": "3.6.12"
  }
 },
 "nbformat": 4,
 "nbformat_minor": 4
}
