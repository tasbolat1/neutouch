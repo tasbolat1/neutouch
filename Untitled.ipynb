{
 "cells": [
  {
   "cell_type": "code",
   "execution_count": 1,
   "metadata": {},
   "outputs": [],
   "source": [
    "!echo \"# neutouch\" >> README.md"
   ]
  },
  {
   "cell_type": "code",
   "execution_count": 2,
   "metadata": {},
   "outputs": [
    {
     "name": "stdout",
     "output_type": "stream",
     "text": [
      "Initialized empty Git repository in /home/crslab/some_python_examples/neutouch/.git/\n",
      "[master (root-commit) 1ccbfd6] first commit\n",
      " 9 files changed, 453 insertions(+)\n",
      " create mode 100644 .ipynb_checkpoints/Untitled-checkpoint.ipynb\n",
      " create mode 100644 README.md\n",
      " create mode 100644 Untitled.ipynb\n",
      " create mode 100644 assets/left_map.png\n",
      " create mode 100644 assets/left_tax_locs.npy\n",
      " create mode 100644 assets/right_map.png\n",
      " create mode 100644 assets/right_tax_locs.npy\n",
      " create mode 100644 utils/.ipynb_checkpoints/Untitled-checkpoint.ipynb\n",
      " create mode 100644 utils/Untitled.ipynb\n",
      "Username for 'https://github.com': ^C\n"
     ]
    }
   ],
   "source": [
    "!git init\n",
    "!git add .\n",
    "!git commit -m \"first commit\"\n",
    "!git branch -M main\n",
    "!git remote add origin https://github.com/tasbolat1/neutouch.git\n",
    "!git push -u origin main"
   ]
  },
  {
   "cell_type": "code",
   "execution_count": null,
   "metadata": {},
   "outputs": [],
   "source": []
  }
 ],
 "metadata": {
  "kernelspec": {
   "display_name": "Python 3",
   "language": "python",
   "name": "python3"
  },
  "language_info": {
   "codemirror_mode": {
    "name": "ipython",
    "version": 3
   },
   "file_extension": ".py",
   "mimetype": "text/x-python",
   "name": "python",
   "nbconvert_exporter": "python",
   "pygments_lexer": "ipython3",
   "version": "3.6.12"
  }
 },
 "nbformat": 4,
 "nbformat_minor": 4
}
