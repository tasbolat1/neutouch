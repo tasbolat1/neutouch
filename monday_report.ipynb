{
 "cells": [
  {
   "cell_type": "markdown",
   "metadata": {},
   "source": [
    "Plan:\n",
    "\n",
    "1. Mechanical issue: **still there**\n",
    "2. Classification of 2 soft and 2 stiff objects: **I think we can up to some degree**\n",
    "3. Transducer cover: **probably will be there**"
   ]
  },
  {
   "cell_type": "markdown",
   "metadata": {},
   "source": [
    "### 1. Mechanical issue"
   ]
  },
  {
   "cell_type": "code",
   "execution_count": 1,
   "metadata": {},
   "outputs": [],
   "source": [
    "from utils.helper import  *\n",
    "import matplotlib.pyplot as plt\n",
    "import seaborn as sns\n",
    "import numpy as np"
   ]
  },
  {
   "cell_type": "code",
   "execution_count": 12,
   "metadata": {},
   "outputs": [],
   "source": [
    "f_dir = 'diagnostic_data/class_test/'\n",
    "# read all trials\n",
    "n_trials = 2\n",
    "n_iter = 20\n",
    "objs=['stiff_block', 'carton_box', 'soft_block', 'sponge']\n",
    "all_trials = list()\n",
    "all_trials_rbtq = list()\n",
    "\n",
    "for i in range(1,n_trials+1):\n",
    "    for j in range(1,n_iter+1):\n",
    "        obj = 'stiff_block'\n",
    "        if (i == 1) & (j == 20):\n",
    "            continue\n",
    "\n",
    "        fname = f_dir + f\"{obj}_trial{i}_{j}\"\n",
    "        temp_df_rbtq, start_time = read_robotiq(fname+'.rbtq')\n",
    "\n",
    "        temp_df_rbtq = temp_df_rbtq.assign(iteration = j)\n",
    "        temp_df_rbtq = temp_df_rbtq.assign(obj = obj)\n",
    "        all_trials_rbtq.append(temp_df_rbtq)\n",
    "\n",
    "        temp_df = read_tac_file2(fname+'.tact', start_time)\n",
    "        #print(temp_df_rbtq.time[0], temp_df.time[0])\n",
    "        temp_df = temp_df[temp_df.taxel != 0]\n",
    "        temp_df = temp_df.assign(iteration = j)\n",
    "        temp_df = temp_df.assign(obj = obj)\n",
    "        temp_df = temp_df.assign(trials=i)\n",
    "        all_trials.append(temp_df)"
   ]
  },
  {
   "cell_type": "code",
   "execution_count": 13,
   "metadata": {},
   "outputs": [],
   "source": [
    "df_rbtq = pd.concat(all_trials_rbtq)\n",
    "df = pd.concat(all_trials)\n",
    "def map_to_finger(taxel_id):\n",
    "    if (taxel_id <= 39) & (taxel_id >=1):\n",
    "        return 'left_finger'\n",
    "    else :\n",
    "        return 'right_finger'\n",
    "\n",
    "df = df.assign(finger_type = df.taxel.apply(map_to_finger))"
   ]
  },
  {
   "cell_type": "code",
   "execution_count": 22,
   "metadata": {},
   "outputs": [],
   "source": [
    "count_df = df.groupby(['obj', 'iteration', 'trials', 'finger_type']).count().reset_index()"
   ]
  },
  {
   "cell_type": "code",
   "execution_count": 24,
   "metadata": {},
   "outputs": [
    {
     "data": {
      "image/png": "[encoded data removed]",
      "text/plain": [
       "<Figure size 1080x576 with 1 Axes>"
      ]
     },
     "metadata": {
      "needs_background": "light"
     },
     "output_type": "display_data"
    }
   ],
   "source": [
    "fig, ax = plt.subplots(figsize=(15,8))\n",
    "sns.barplot(ax=ax, x = 'trials', y='time', hue='finger_type', data=count_df)\n",
    "ax.set_ylabel('Total spike count')\n",
    "plt.show()"
   ]
  },
  {
   "cell_type": "markdown",
   "metadata": {},
   "source": [
    "one of the iteration of trial\n",
    "##### Stiff block left\n",
    "![log](diagnostic_data/class_test_imgs/stiff_block_left_finger_small_1.png)\n",
    "##### Stiff block right\n",
    "![log](diagnostic_data/class_test_imgs/stiff_block_right_finger_small_1.png)"
   ]
  },
  {
   "cell_type": "markdown",
   "metadata": {},
   "source": [
    "another of the iteration of trial\n",
    "##### Stiff block left\n",
    "![log](diagnostic_data/class_test_imgs/stiff_block_left_finger_small_3_trial2.png)\n",
    "##### Stiff block right\n",
    "![log](diagnostic_data/class_test_imgs/stiff_block_right_finger_small_1_trial2.png)"
   ]
  },
  {
   "cell_type": "markdown",
   "metadata": {},
   "source": [
    "#### 2. Classification of 2 soft and 2 stiff objs "
   ]
  },
  {
   "cell_type": "code",
   "execution_count": 41,
   "metadata": {},
   "outputs": [],
   "source": [
    "f_dir = 'diagnostic_data/class_test/'\n",
    "# read all trials\n",
    "n_trials = 2\n",
    "n_iter = 20\n",
    "objs=['stiff_block', 'carton_box', 'soft_block', 'sponge']\n",
    "all_trials = list()\n",
    "all_trials_rbtq = list()\n",
    "\n",
    "for i in range(1,n_trials+1):\n",
    "    for j in range(1,n_iter+1):\n",
    "        for obj in objs:                \n",
    "            fname = f_dir + f\"{obj}_trial{i}_{j}\"\n",
    "            temp_df_rbtq, start_time = read_robotiq(fname+'.rbtq')\n",
    "            \n",
    "            temp_df_rbtq = temp_df_rbtq.assign(iteration = j)\n",
    "            temp_df_rbtq = temp_df_rbtq.assign(obj = obj)\n",
    "            temp_df_rbtq = temp_df_rbtq.assign(trials = i)\n",
    "            all_trials_rbtq.append(temp_df_rbtq)\n",
    "            \n",
    "            temp_df = read_tac_file2(fname+'.tact', start_time)\n",
    "            #print(temp_df_rbtq.time[0], temp_df.time[0])\n",
    "            temp_df = temp_df[temp_df.taxel != 0]\n",
    "            temp_df = temp_df.assign(iteration = j)\n",
    "            temp_df = temp_df.assign(obj = obj)\n",
    "            temp_df = temp_df.assign(trials = i)\n",
    "            all_trials.append(temp_df)"
   ]
  },
  {
   "cell_type": "code",
   "execution_count": 42,
   "metadata": {},
   "outputs": [],
   "source": [
    "df_rbtq = pd.concat(all_trials_rbtq)\n",
    "df = pd.concat(all_trials)\n",
    "def map_to_finger(taxel_id):\n",
    "    if (taxel_id <= 39) & (taxel_id >=1):\n",
    "        return 'left_finger'\n",
    "    else :\n",
    "        return 'right_finger'\n",
    "\n",
    "df = df.assign(finger_type = df.taxel.apply(map_to_finger))"
   ]
  },
  {
   "cell_type": "code",
   "execution_count": 43,
   "metadata": {},
   "outputs": [],
   "source": [
    "count_df = df.groupby(['obj', 'isNeg', 'iteration', 'trials']).count().reset_index()"
   ]
  },
  {
   "cell_type": "code",
   "execution_count": 46,
   "metadata": {},
   "outputs": [],
   "source": [
    "trial1_mask = count_df.trials==1\n",
    "trial2_mask = count_df.trials==2"
   ]
  },
  {
   "cell_type": "code",
   "execution_count": 48,
   "metadata": {},
   "outputs": [
    {
     "data": {
      "image/png": "[encoded data removed]",
      "text/plain": [
       "<Figure size 1080x576 with 1 Axes>"
      ]
     },
     "metadata": {
      "needs_background": "light"
     },
     "output_type": "display_data"
    }
   ],
   "source": [
    "fig, ax = plt.subplots(figsize=(15,8))\n",
    "sns.barplot(ax=ax, x = 'obj', y='time', hue='isNeg', order=objs, data=count_df[trial1_mask])\n",
    "#ax.set_ylim([3500,6500])\n",
    "ax.set_ylabel('Total spike count')\n",
    "plt.show()"
   ]
  },
  {
   "cell_type": "code",
   "execution_count": 49,
   "metadata": {},
   "outputs": [
    {
     "data": {
      "image/png": "[encoded data removed]",
      "text/plain": [
       "<Figure size 1080x576 with 1 Axes>"
      ]
     },
     "metadata": {
      "needs_background": "light"
     },
     "output_type": "display_data"
    }
   ],
   "source": [
    "fig, ax = plt.subplots(figsize=(15,8))\n",
    "sns.barplot(ax=ax, x = 'obj', y='time', hue='isNeg', order=objs, data=count_df[trial2_mask])\n",
    "#ax.set_ylim([3500,6500])\n",
    "ax.set_ylabel('Total spike count')\n",
    "plt.show()"
   ]
  },
  {
   "cell_type": "markdown",
   "metadata": {},
   "source": [
    "Finger wise"
   ]
  },
  {
   "cell_type": "code",
   "execution_count": 50,
   "metadata": {},
   "outputs": [],
   "source": [
    "count_df = df.groupby(['obj', 'finger_type', 'iteration', 'trials']).count().reset_index()"
   ]
  },
  {
   "cell_type": "code",
   "execution_count": 51,
   "metadata": {},
   "outputs": [],
   "source": [
    "trial1_mask = count_df.trials==1\n",
    "trial2_mask = count_df.trials==2"
   ]
  },
  {
   "cell_type": "code",
   "execution_count": 52,
   "metadata": {},
   "outputs": [
    {
     "data": {
      "image/png": "[encoded data removed]",
      "text/plain": [
       "<Figure size 1080x576 with 1 Axes>"
      ]
     },
     "metadata": {
      "needs_background": "light"
     },
     "output_type": "display_data"
    }
   ],
   "source": [
    "fig, ax = plt.subplots(figsize=(15,8))\n",
    "sns.barplot(ax=ax, x = 'obj', y='time', hue='finger_type', order=objs, data=count_df[trial1_mask])\n",
    "#ax.set_ylim([3500,6500])\n",
    "ax.set_ylabel('Total spike count')\n",
    "plt.show()"
   ]
  },
  {
   "cell_type": "code",
   "execution_count": 53,
   "metadata": {},
   "outputs": [
    {
     "data": {
      "image/png": "[encoded data removed]",
      "text/plain": [
       "<Figure size 1080x576 with 1 Axes>"
      ]
     },
     "metadata": {
      "needs_background": "light"
     },
     "output_type": "display_data"
    }
   ],
   "source": [
    "fig, ax = plt.subplots(figsize=(15,8))\n",
    "sns.barplot(ax=ax, x = 'obj', y='time', hue='finger_type', order=objs, data=count_df[trial2_mask])\n",
    "#ax.set_ylim([3500,6500])\n",
    "ax.set_ylabel('Total spike count')\n",
    "plt.show()"
   ]
  },
  {
   "cell_type": "markdown",
   "metadata": {},
   "source": [
    "Temporal distribution"
   ]
  },
  {
   "cell_type": "code",
   "execution_count": 54,
   "metadata": {},
   "outputs": [],
   "source": [
    "### See spikes over time\n",
    "t_range = np.linspace(0, 4.4, 220)\n",
    "df_bin_range = pd.cut(df.time, t_range)\n",
    "groups = df.groupby(['iteration', 'finger_type','obj', 'trials', df_bin_range]).count()\n",
    "count_df = groups.add_suffix('_count').reset_index()\n",
    "def map_to_cat(x):\n",
    "    return np.float(x.right)\n",
    "count_df = count_df.assign(time_int = count_df.time.apply(map_to_cat).astype(np.float))"
   ]
  },
  {
   "cell_type": "code",
   "execution_count": 55,
   "metadata": {},
   "outputs": [],
   "source": [
    "count_df.taxel_count = count_df.taxel_count.fillna(0)"
   ]
  },
  {
   "cell_type": "code",
   "execution_count": null,
   "metadata": {},
   "outputs": [],
   "source": [
    "trial1_mask = count_df.trials==1\n",
    "trial2_mask = count_df.trials==2"
   ]
  },
  {
   "cell_type": "markdown",
   "metadata": {},
   "source": [
    "##### Trial 1\n",
    "![log](4_objs_trial1.png)\n",
    "##### Trial 2\n",
    "![log](4_objs_trial2.png)"
   ]
  },
  {
   "cell_type": "markdown",
   "metadata": {},
   "source": [
    "#### 3. Tranducer cover"
   ]
  },
  {
   "cell_type": "markdown",
   "metadata": {},
   "source": [
    "<p float=\"left\">\n",
    "  <img src=\"finger_left.png\" width=\"100\" />\n",
    "  <img src=\"finger_right.png\" width=\"100\" /> \n",
    "</p>\n"
   ]
  },
  {
   "cell_type": "markdown",
   "metadata": {},
   "source": [
    "![alt-text-1](finger_left.png \"title-1\") ![alt-text-2](finger_right.png \"title-2\")"
   ]
  },
  {
   "cell_type": "markdown",
   "metadata": {},
   "source": [
    "<img src=\"finger_left.png\" width=\"50\"/> <img src=\"finger_right.png\" width=\"50\"/> "
   ]
  },
  {
   "cell_type": "code",
   "execution_count": null,
   "metadata": {},
   "outputs": [],
   "source": []
  }
 ],
 "metadata": {
  "kernelspec": {
   "display_name": "Python 3",
   "language": "python",
   "name": "python3"
  },
  "language_info": {
   "codemirror_mode": {
    "name": "ipython",
    "version": 3
   },
   "file_extension": ".py",
   "mimetype": "text/x-python",
   "name": "python",
   "nbconvert_exporter": "python",
   "pygments_lexer": "ipython3",
   "version": "3.6.12"
  }
 },
 "nbformat": 4,
 "nbformat_minor": 4
}
